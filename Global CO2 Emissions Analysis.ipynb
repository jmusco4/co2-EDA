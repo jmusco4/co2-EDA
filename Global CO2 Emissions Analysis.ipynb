{
 "cells":[
  {
   "cell_type":"markdown",
   "source":[
    "# owid_co2_data"
   ],
   "attachments":{
    
   },
   "metadata":{
    "datalore":{
     "node_id":"owid_co2_data",
     "type":"MD",
     "hide_input_from_viewers":false,
     "hide_output_from_viewers":false,
     "sheet_delimiter":true
    }
   }
  },
  {
   "cell_type":"markdown",
   "source":[
    "### Author: Joe Muscolino\n",
    "#### Updated: 10\/11\/2023"
   ],
   "attachments":{
    
   },
   "metadata":{
    "datalore":{
     "node_id":"f3FNbTnaHsghaYrtaIeU2c",
     "type":"MD",
     "hide_input_from_viewers":true,
     "hide_output_from_viewers":true
    }
   }
  },
  {
   "cell_type":"code",
   "source":[
    "import pandas as pd\n",
    "import numpy as np\n",
    "from scipy.stats import norm\n",
    "from matplotlib import rcParams\n",
    "import matplotlib.pyplot as plt\n",
    "import random\n",
    "from datetime import datetime"
   ],
   "execution_count":1,
   "outputs":[
    
   ],
   "metadata":{
    "datalore":{
     "node_id":"kenESxLzCbOdYyy47OUPCu",
     "type":"CODE",
     "hide_input_from_viewers":true,
     "hide_output_from_viewers":true
    }
   }
  },
  {
   "cell_type":"markdown",
   "source":[
    
   ],
   "attachments":{
    
   },
   "metadata":{
    "datalore":{
     "node_id":"rGQqhUnd5cujKpQeRa6WBu",
     "type":"MD",
     "hide_input_from_viewers":true,
     "hide_output_from_viewers":true
    }
   }
  },
  {
   "cell_type":"markdown",
   "source":[
    "# A. Data Exploration and Cleaning"
   ],
   "attachments":{
    
   },
   "metadata":{
    "datalore":{
     "node_id":"Mt2M62U3tzI6OM2mBiIjxd",
     "type":"MD",
     "hide_input_from_viewers":true,
     "hide_output_from_viewers":true
    }
   }
  },
  {
   "cell_type":"code",
   "source":[
    "co2_df = pd.read_csv(\"owid-co2-data.csv\")"
   ],
   "execution_count":2,
   "outputs":[
    
   ],
   "metadata":{
    "datalore":{
     "node_id":"y417wj0jLhbCtMTfz4512I",
     "type":"CODE",
     "hide_input_from_viewers":true,
     "hide_output_from_viewers":true
    }
   }
  },
  {
   "cell_type":"code",
   "source":[
    "co2_df.shape"
   ],
   "execution_count":3,
   "outputs":[
    {
     "data":{
      "text\/plain":[
       "(50598, 79)"
      ]
     },
     "metadata":{
      
     },
     "output_type":"display_data"
    }
   ],
   "metadata":{
    "datalore":{
     "node_id":"0Nelok3edXZR51sN64M6FQ",
     "type":"CODE",
     "hide_input_from_viewers":true,
     "hide_output_from_viewers":true
    }
   }
  },
  {
   "cell_type":"code",
   "source":[
    "co2_df.info()"
   ],
   "execution_count":31,
   "outputs":[
    {
     "name":"stdout",
     "text":[
      "<class 'pandas.core.frame.DataFrame'>\n",
      "RangeIndex: 50598 entries, 0 to 50597\n",
      "Data columns (total 60 columns):\n",
      " #   Column                                     Non-Null Count  Dtype  \n",
      "---  ------                                     --------------  -----  \n",
      " 0   country                                    50598 non-null  object \n",
      " 1   year                                       50598 non-null  int64  \n",
      " 2   iso_code                                   42142 non-null  object \n",
      " 3   population                                 40008 non-null  float64\n",
      " 4   gdp                                        14564 non-null  float64\n",
      " 5   cement_co2                                 24974 non-null  float64\n",
      " 6   cement_co2_per_capita                      22714 non-null  float64\n",
      " 7   co2                                        31349 non-null  float64\n",
      " 8   co2_growth_abs                             28944 non-null  float64\n",
      " 9   co2_growth_prct                            25032 non-null  float64\n",
      " 10  co2_including_luc                          24218 non-null  float64\n",
      " 11  co2_including_luc_growth_abs               23917 non-null  float64\n",
      " 12  co2_including_luc_growth_prct              24123 non-null  float64\n",
      " 13  co2_including_luc_per_capita               23696 non-null  float64\n",
      " 14  co2_including_luc_per_gdp                  15701 non-null  float64\n",
      " 15  co2_including_luc_per_unit_energy          9722 non-null   float64\n",
      " 16  co2_per_capita                             26915 non-null  float64\n",
      " 17  co2_per_gdp                                16291 non-null  float64\n",
      " 18  co2_per_unit_energy                        10276 non-null  float64\n",
      " 19  coal_co2                                   25069 non-null  float64\n",
      " 20  coal_co2_per_capita                        24421 non-null  float64\n",
      " 21  cumulative_cement_co2                      24873 non-null  float64\n",
      " 22  cumulative_co2                             29356 non-null  float64\n",
      " 23  cumulative_co2_including_luc               24218 non-null  float64\n",
      " 24  cumulative_coal_co2                        24968 non-null  float64\n",
      " 25  cumulative_flaring_co2                     24774 non-null  float64\n",
      " 26  cumulative_gas_co2                         24842 non-null  float64\n",
      " 27  cumulative_luc_co2                         39388 non-null  float64\n",
      " 28  cumulative_oil_co2                         24941 non-null  float64\n",
      " 29  energy_per_capita                          10320 non-null  float64\n",
      " 30  flaring_co2                                24875 non-null  float64\n",
      " 31  flaring_co2_per_capita                     24272 non-null  float64\n",
      " 32  gas_co2                                    24943 non-null  float64\n",
      " 33  gas_co2_per_capita                         24340 non-null  float64\n",
      " 34  land_use_change_co2                        39388 non-null  float64\n",
      " 35  land_use_change_co2_per_capita             36026 non-null  float64\n",
      " 36  oil_co2                                    25042 non-null  float64\n",
      " 37  oil_co2_per_capita                         24367 non-null  float64\n",
      " 38  primary_energy_consumption                 10391 non-null  float64\n",
      " 39  share_global_cement_co2                    20830 non-null  float64\n",
      " 40  share_global_co2                           29356 non-null  float64\n",
      " 41  share_global_co2_including_luc             24218 non-null  float64\n",
      " 42  share_global_coal_co2                      24968 non-null  float64\n",
      " 43  share_global_cumulative_cement_co2         20830 non-null  float64\n",
      " 44  share_global_cumulative_co2                29356 non-null  float64\n",
      " 45  share_global_cumulative_co2_including_luc  24218 non-null  float64\n",
      " 46  share_global_cumulative_coal_co2           24968 non-null  float64\n",
      " 47  share_global_cumulative_flaring_co2        15980 non-null  float64\n",
      " 48  share_global_cumulative_gas_co2            21990 non-null  float64\n",
      " 49  share_global_cumulative_luc_co2            39388 non-null  float64\n",
      " 50  share_global_cumulative_oil_co2            23421 non-null  float64\n",
      " 51  share_global_flaring_co2                   15980 non-null  float64\n",
      " 52  share_global_gas_co2                       21990 non-null  float64\n",
      " 53  share_global_luc_co2                       39388 non-null  float64\n",
      " 54  share_global_oil_co2                       23421 non-null  float64\n",
      " 55  share_of_temperature_change_from_ghg       41724 non-null  float64\n",
      " 56  temperature_change_from_ch4                37620 non-null  float64\n",
      " 57  temperature_change_from_co2                41724 non-null  float64\n",
      " 58  temperature_change_from_ghg                41724 non-null  float64\n",
      " 59  temperature_change_from_n2o                37620 non-null  float64\n",
      "dtypes: float64(57), int64(1), object(2)\n",
      "memory usage: 23.2+ MB\n"
     ],
     "output_type":"stream"
    }
   ],
   "metadata":{
    "datalore":{
     "node_id":"Zt5zrs8su0zNAZKmQXTyMd",
     "type":"CODE",
     "hide_input_from_viewers":true,
     "hide_output_from_viewers":true
    }
   }
  },
  {
   "cell_type":"code",
   "source":[
    "# Get Percent of missing data in each column, convert the missing_data from a \n",
    "# decimal to a percentage and round to 2 decimal places.\n",
    "missing_data = round(co2_df.isna().sum() \/ len(co2_df) * 100, 2)\n",
    "missing_data"
   ],
   "execution_count":4,
   "outputs":[
    {
     "data":{
      "text\/html":[
       "<pre>country                         0.00\n",
       "year                            0.00\n",
       "iso_code                       16.71\n",
       "population                     20.93\n",
       "gdp                            71.22\n",
       "                               ...  \n",
       "temperature_change_from_n2o    25.65\n",
       "total_ghg                      87.85\n",
       "total_ghg_excluding_lucf       87.85\n",
       "trade_co2                      91.58\n",
       "trade_co2_share                91.58\n",
       "Length: 79, dtype: float64<\/pre>"
      ]
     },
     "metadata":{
      
     },
     "output_type":"display_data"
    }
   ],
   "metadata":{
    "datalore":{
     "node_id":"Vimeh1i7k6zU7Gwgf6RSIO",
     "type":"CODE",
     "hide_input_from_viewers":true,
     "hide_output_from_viewers":true
    }
   }
  },
  {
   "cell_type":"code",
   "source":[
    "\n",
    "# Parse index of previous missing_data and check how much data is missing from column, if 98% or more is missing, drop it. \n",
    "for col in missing_data.index:\n",
    "    if missing_data[col] >= 85:\n",
    "        co2_df.drop(columns=[col], inplace=True)\n",
    "\n",
    "co2_df.shape"
   ],
   "execution_count":5,
   "outputs":[
    {
     "data":{
      "text\/plain":[
       "(50598, 60)"
      ]
     },
     "metadata":{
      
     },
     "output_type":"display_data"
    }
   ],
   "metadata":{
    "datalore":{
     "node_id":"EukeJZ94nyyB3PANcYKYE2",
     "type":"CODE",
     "hide_input_from_viewers":true,
     "hide_output_from_viewers":true
    }
   }
  },
  {
   "cell_type":"code",
   "source":[
    "co2_df.describe()"
   ],
   "execution_count":7,
   "outputs":[
    {
     "data":{
      "text\/html":[
       "<div>\n",
       "<style scoped>\n",
       "    .dataframe tbody tr th:only-of-type {\n",
       "        vertical-align: middle;\n",
       "    }\n",
       "\n",
       "    .dataframe tbody tr th {\n",
       "        vertical-align: top;\n",
       "    }\n",
       "\n",
       "    .dataframe thead th {\n",
       "        text-align: right;\n",
       "    }\n",
       "<\/style>\n",
       "<table border=\"1\" class=\"dataframe\">\n",
       "  <thead>\n",
       "    <tr style=\"text-align: right;\">\n",
       "      <th><\/th>\n",
       "      <th>year<\/th>\n",
       "      <th>population<\/th>\n",
       "      <th>gdp<\/th>\n",
       "      <th>cement_co2<\/th>\n",
       "      <th>cement_co2_per_capita<\/th>\n",
       "      <th>co2<\/th>\n",
       "      <th>co2_growth_abs<\/th>\n",
       "      <th>co2_growth_prct<\/th>\n",
       "      <th>co2_including_luc<\/th>\n",
       "      <th>co2_including_luc_growth_abs<\/th>\n",
       "      <th>...<\/th>\n",
       "      <th>share_global_cumulative_oil_co2<\/th>\n",
       "      <th>share_global_flaring_co2<\/th>\n",
       "      <th>share_global_gas_co2<\/th>\n",
       "      <th>share_global_luc_co2<\/th>\n",
       "      <th>share_global_oil_co2<\/th>\n",
       "      <th>share_of_temperature_change_from_ghg<\/th>\n",
       "      <th>temperature_change_from_ch4<\/th>\n",
       "      <th>temperature_change_from_co2<\/th>\n",
       "      <th>temperature_change_from_ghg<\/th>\n",
       "      <th>temperature_change_from_n2o<\/th>\n",
       "    <\/tr>\n",
       "  <\/thead>\n",
       "  <tbody>\n",
       "    <tr>\n",
       "      <th>count<\/th>\n",
       "      <td>50598.000000<\/td>\n",
       "      <td>4.000800e+04<\/td>\n",
       "      <td>1.456400e+04<\/td>\n",
       "      <td>24974.000000<\/td>\n",
       "      <td>22714.000000<\/td>\n",
       "      <td>31349.000000<\/td>\n",
       "      <td>28944.000000<\/td>\n",
       "      <td>25032.000000<\/td>\n",
       "      <td>24218.000000<\/td>\n",
       "      <td>23917.000000<\/td>\n",
       "      <td>...<\/td>\n",
       "      <td>23421.000000<\/td>\n",
       "      <td>15980.000000<\/td>\n",
       "      <td>21990.000000<\/td>\n",
       "      <td>39388.000000<\/td>\n",
       "      <td>23421.000000<\/td>\n",
       "      <td>41724.000000<\/td>\n",
       "      <td>37620.000000<\/td>\n",
       "      <td>41724.000000<\/td>\n",
       "      <td>41724.000000<\/td>\n",
       "      <td>37620.000000<\/td>\n",
       "    <\/tr>\n",
       "    <tr>\n",
       "      <th>mean<\/th>\n",
       "      <td>1925.365173<\/td>\n",
       "      <td>5.926810e+07<\/td>\n",
       "      <td>2.677586e+11<\/td>\n",
       "      <td>8.392491<\/td>\n",
       "      <td>0.063958<\/td>\n",
       "      <td>380.237549<\/td>\n",
       "      <td>5.716527<\/td>\n",
       "      <td>20.492413<\/td>\n",
       "      <td>499.312724<\/td>\n",
       "      <td>7.204133<\/td>\n",
       "      <td>...<\/td>\n",
       "      <td>3.344629<\/td>\n",
       "      <td>2.085217<\/td>\n",
       "      <td>2.827082<\/td>\n",
       "      <td>2.561769<\/td>\n",
       "      <td>3.328371<\/td>\n",
       "      <td>2.190116<\/td>\n",
       "      <td>0.002956<\/td>\n",
       "      <td>0.006886<\/td>\n",
       "      <td>0.010069<\/td>\n",
       "      <td>0.000497<\/td>\n",
       "    <\/tr>\n",
       "    <tr>\n",
       "      <th>std<\/th>\n",
       "      <td>59.882945<\/td>\n",
       "      <td>3.222866e+08<\/td>\n",
       "      <td>2.103151e+12<\/td>\n",
       "      <td>63.009433<\/td>\n",
       "      <td>0.123023<\/td>\n",
       "      <td>1801.527942<\/td>\n",
       "      <td>58.764604<\/td>\n",
       "      <td>699.580857<\/td>\n",
       "      <td>2081.497921<\/td>\n",
       "      <td>92.866497<\/td>\n",
       "      <td>...<\/td>\n",
       "      <td>13.024224<\/td>\n",
       "      <td>9.106761<\/td>\n",
       "      <td>13.721541<\/td>\n",
       "      <td>10.092255<\/td>\n",
       "      <td>12.828399<\/td>\n",
       "      <td>9.008552<\/td>\n",
       "      <td>0.016073<\/td>\n",
       "      <td>0.039684<\/td>\n",
       "      <td>0.057186<\/td>\n",
       "      <td>0.002943<\/td>\n",
       "    <\/tr>\n",
       "    <tr>\n",
       "      <th>min<\/th>\n",
       "      <td>1750.000000<\/td>\n",
       "      <td>2.100000e+01<\/td>\n",
       "      <td>4.998000e+07<\/td>\n",
       "      <td>0.000000<\/td>\n",
       "      <td>0.000000<\/td>\n",
       "      <td>0.000000<\/td>\n",
       "      <td>-1818.472000<\/td>\n",
       "      <td>-100.000000<\/td>\n",
       "      <td>-187.032000<\/td>\n",
       "      <td>-2317.996000<\/td>\n",
       "      <td>...<\/td>\n",
       "      <td>0.000000<\/td>\n",
       "      <td>0.000000<\/td>\n",
       "      <td>0.000000<\/td>\n",
       "      <td>-6.498000<\/td>\n",
       "      <td>0.000000<\/td>\n",
       "      <td>-0.899000<\/td>\n",
       "      <td>-0.001000<\/td>\n",
       "      <td>0.000000<\/td>\n",
       "      <td>-0.001000<\/td>\n",
       "      <td>0.000000<\/td>\n",
       "    <\/tr>\n",
       "    <tr>\n",
       "      <th>25%<\/th>\n",
       "      <td>1882.000000<\/td>\n",
       "      <td>3.198618e+05<\/td>\n",
       "      <td>7.516679e+09<\/td>\n",
       "      <td>0.000000<\/td>\n",
       "      <td>0.000000<\/td>\n",
       "      <td>0.125000<\/td>\n",
       "      <td>0.000000<\/td>\n",
       "      <td>-0.541500<\/td>\n",
       "      <td>4.646000<\/td>\n",
       "      <td>-0.572000<\/td>\n",
       "      <td>...<\/td>\n",
       "      <td>0.004000<\/td>\n",
       "      <td>0.000000<\/td>\n",
       "      <td>0.000000<\/td>\n",
       "      <td>0.001000<\/td>\n",
       "      <td>0.005000<\/td>\n",
       "      <td>0.003000<\/td>\n",
       "      <td>0.000000<\/td>\n",
       "      <td>0.000000<\/td>\n",
       "      <td>0.000000<\/td>\n",
       "      <td>0.000000<\/td>\n",
       "    <\/tr>\n",
       "    <tr>\n",
       "      <th>50%<\/th>\n",
       "      <td>1929.000000<\/td>\n",
       "      <td>2.323117e+06<\/td>\n",
       "      <td>2.597999e+10<\/td>\n",
       "      <td>0.010000<\/td>\n",
       "      <td>0.005000<\/td>\n",
       "      <td>3.109000<\/td>\n",
       "      <td>0.015000<\/td>\n",
       "      <td>3.783500<\/td>\n",
       "      <td>24.417000<\/td>\n",
       "      <td>0.062000<\/td>\n",
       "      <td>...<\/td>\n",
       "      <td>0.053000<\/td>\n",
       "      <td>0.000000<\/td>\n",
       "      <td>0.000000<\/td>\n",
       "      <td>0.072000<\/td>\n",
       "      <td>0.061000<\/td>\n",
       "      <td>0.071000<\/td>\n",
       "      <td>0.000000<\/td>\n",
       "      <td>0.000000<\/td>\n",
       "      <td>0.000000<\/td>\n",
       "      <td>0.000000<\/td>\n",
       "    <\/tr>\n",
       "    <tr>\n",
       "      <th>75%<\/th>\n",
       "      <td>1975.000000<\/td>\n",
       "      <td>9.802751e+06<\/td>\n",
       "      <td>1.132942e+11<\/td>\n",
       "      <td>0.692000<\/td>\n",
       "      <td>0.087000<\/td>\n",
       "      <td>43.730000<\/td>\n",
       "      <td>0.773000<\/td>\n",
       "      <td>10.569000<\/td>\n",
       "      <td>113.381250<\/td>\n",
       "      <td>2.325000<\/td>\n",
       "      <td>...<\/td>\n",
       "      <td>0.493000<\/td>\n",
       "      <td>0.051000<\/td>\n",
       "      <td>0.123000<\/td>\n",
       "      <td>0.485000<\/td>\n",
       "      <td>0.518000<\/td>\n",
       "      <td>0.329000<\/td>\n",
       "      <td>0.001000<\/td>\n",
       "      <td>0.001000<\/td>\n",
       "      <td>0.001000<\/td>\n",
       "      <td>0.000000<\/td>\n",
       "    <\/tr>\n",
       "    <tr>\n",
       "      <th>max<\/th>\n",
       "      <td>2021.000000<\/td>\n",
       "      <td>7.909295e+09<\/td>\n",
       "      <td>1.136302e+14<\/td>\n",
       "      <td>1672.592000<\/td>\n",
       "      <td>2.574000<\/td>\n",
       "      <td>37123.852000<\/td>\n",
       "      <td>1859.764000<\/td>\n",
       "      <td>102318.508000<\/td>\n",
       "      <td>41639.840000<\/td>\n",
       "      <td>2246.723000<\/td>\n",
       "      <td>...<\/td>\n",
       "      <td>100.000000<\/td>\n",
       "      <td>100.000000<\/td>\n",
       "      <td>100.000000<\/td>\n",
       "      <td>100.675000<\/td>\n",
       "      <td>100.000000<\/td>\n",
       "      <td>100.000000<\/td>\n",
       "      <td>0.415000<\/td>\n",
       "      <td>1.113000<\/td>\n",
       "      <td>1.611000<\/td>\n",
       "      <td>0.083000<\/td>\n",
       "    <\/tr>\n",
       "  <\/tbody>\n",
       "<\/table>\n",
       "<p>8 rows × 58 columns<\/p>\n",
       "<\/div>"
      ]
     },
     "metadata":{
      
     },
     "output_type":"display_data"
    }
   ],
   "metadata":{
    "datalore":{
     "node_id":"XCsmUGsW19lDFLrMDBvGhD",
     "type":"CODE",
     "hide_input_from_viewers":true,
     "hide_output_from_viewers":true
    }
   }
  },
  {
   "cell_type":"markdown",
   "source":[
    
   ],
   "attachments":{
    
   },
   "metadata":{
    "datalore":{
     "node_id":"XzR3IHm2BYsgdXV2pa3JpR",
     "type":"MD",
     "hide_input_from_viewers":true,
     "hide_output_from_viewers":true
    }
   }
  },
  {
   "cell_type":"markdown",
   "source":[
    "# B. Data Analysis"
   ],
   "attachments":{
    
   },
   "metadata":{
    "datalore":{
     "node_id":"qZxjQXGA9qVTwmiR1M4OCy",
     "type":"MD",
     "hide_input_from_viewers":true,
     "hide_output_from_viewers":true
    }
   }
  },
  {
   "cell_type":"markdown",
   "source":[
    "### Analyze data by Year"
   ],
   "attachments":{
    
   },
   "metadata":{
    "datalore":{
     "node_id":"F0Wp3isHFs0J5mNJKFraxH",
     "type":"MD",
     "hide_input_from_viewers":true,
     "hide_output_from_viewers":true
    }
   }
  },
  {
   "cell_type":"code",
   "source":[
    "population_data = co2_df.dropna(subset=['population'])\n",
    "population_by_year = population_data.groupby(\"year\").aggregate({\"population\":\"sum\", \"co2\":\"sum\", })\n",
    "population_by_year"
   ],
   "execution_count":8,
   "outputs":[
    {
     "data":{
      "text\/html":[
       "<div>\n",
       "<style scoped>\n",
       "    .dataframe tbody tr th:only-of-type {\n",
       "        vertical-align: middle;\n",
       "    }\n",
       "\n",
       "    .dataframe tbody tr th {\n",
       "        vertical-align: top;\n",
       "    }\n",
       "\n",
       "    .dataframe thead th {\n",
       "        text-align: right;\n",
       "    }\n",
       "<\/style>\n",
       "<table border=\"1\" class=\"dataframe\">\n",
       "  <thead>\n",
       "    <tr style=\"text-align: right;\">\n",
       "      <th><\/th>\n",
       "      <th>population<\/th>\n",
       "      <th>co2<\/th>\n",
       "    <\/tr>\n",
       "    <tr>\n",
       "      <th>year<\/th>\n",
       "      <th><\/th>\n",
       "      <th><\/th>\n",
       "    <\/tr>\n",
       "  <\/thead>\n",
       "  <tbody>\n",
       "    <tr>\n",
       "      <th>1750<\/th>\n",
       "      <td>2.252271e+09<\/td>\n",
       "      <td>37.404<\/td>\n",
       "    <\/tr>\n",
       "    <tr>\n",
       "      <th>1760<\/th>\n",
       "      <td>2.355539e+09<\/td>\n",
       "      <td>40.068<\/td>\n",
       "    <\/tr>\n",
       "    <tr>\n",
       "      <th>1770<\/th>\n",
       "      <td>2.472947e+09<\/td>\n",
       "      <td>49.096<\/td>\n",
       "    <\/tr>\n",
       "    <tr>\n",
       "      <th>1780<\/th>\n",
       "      <td>2.690228e+09<\/td>\n",
       "      <td>60.220<\/td>\n",
       "    <\/tr>\n",
       "    <tr>\n",
       "      <th>1790<\/th>\n",
       "      <td>2.813271e+09<\/td>\n",
       "      <td>76.710<\/td>\n",
       "    <\/tr>\n",
       "    <tr>\n",
       "      <th>...<\/th>\n",
       "      <td>...<\/td>\n",
       "      <td>...<\/td>\n",
       "    <\/tr>\n",
       "    <tr>\n",
       "      <th>2017<\/th>\n",
       "      <td>3.080957e+10<\/td>\n",
       "      <td>143808.278<\/td>\n",
       "    <\/tr>\n",
       "    <tr>\n",
       "      <th>2018<\/th>\n",
       "      <td>3.114641e+10<\/td>\n",
       "      <td>146532.830<\/td>\n",
       "    <\/tr>\n",
       "    <tr>\n",
       "      <th>2019<\/th>\n",
       "      <td>3.147256e+10<\/td>\n",
       "      <td>147477.381<\/td>\n",
       "    <\/tr>\n",
       "    <tr>\n",
       "      <th>2020<\/th>\n",
       "      <td>3.177727e+10<\/td>\n",
       "      <td>140853.028<\/td>\n",
       "    <\/tr>\n",
       "    <tr>\n",
       "      <th>2021<\/th>\n",
       "      <td>3.205066e+10<\/td>\n",
       "      <td>148213.552<\/td>\n",
       "    <\/tr>\n",
       "  <\/tbody>\n",
       "<\/table>\n",
       "<p>227 rows × 2 columns<\/p>\n",
       "<\/div>"
      ]
     },
     "metadata":{
      
     },
     "output_type":"display_data"
    }
   ],
   "metadata":{
    "datalore":{
     "node_id":"XSLdB4FRxaUOdcPnEuARVc",
     "type":"CODE",
     "hide_input_from_viewers":true,
     "hide_output_from_viewers":true
    }
   }
  },
  {
   "cell_type":"code",
   "source":[
    "# # Missions Timeline\n",
    "# count_ms_month = temp[\"MSNMONTH\"].value_counts().sort_index(ascending=True)\n",
    "\n",
    "fig, axs = plt.subplots(2, sharex=True, figsize=(15, 7))\n",
    "fig.suptitle('Population vs CO2 Growth by Year')\n",
    "\n",
    "# Plot Data\n",
    "plt.rcParams.update({'font.size': 12})\n",
    "\n",
    "axs[0].plot(population_by_year.index.to_list(), population_by_year[\"population\"])\n",
    "axs[1].plot(population_by_year.index.to_list(), population_by_year[\"co2\"], color=\"#F50537\")\n",
    "\n",
    "# Set plot title\n",
    "axs[0].set_title('Population', loc='right')\n",
    "axs[1].set_title('CO2', loc='right')\n",
    "\n",
    "# Set axis labels\n",
    "axs[0].set_ylabel('Population (in Billions)')\n",
    "axs[1].set_ylabel('CO2')\n",
    "axs[1].set_xlabel('Year')\n",
    "# plt.xlabel('Year')\n",
    "# plt.ylabel('Population (in Billions)')\n",
    "\n",
    "# plt.plot(population_by_year[\"population\"], linewidth ='2.0')\n",
    "# plt.plot(population_by_year[\"co2\"], linewidth ='2.0')\n",
    "plt.gcf().autofmt_xdate()\n",
    "plt.show()"
   ],
   "execution_count":57,
   "outputs":[
    {
     "data":{
      "image\/png":"[encoded data removed]"
     },
     "metadata":{
      "image\/png":{
       
      }
     },
     "output_type":"display_data"
    }
   ],
   "metadata":{
    "datalore":{
     "node_id":"oGRS2h2i9e33ArJ2JMe2lS",
     "type":"CODE",
     "hide_input_from_viewers":true,
     "hide_output_from_viewers":true
    }
   }
  },
  {
   "cell_type":"markdown",
   "source":[
    
   ],
   "attachments":{
    
   },
   "metadata":{
    "datalore":{
     "node_id":"dGpKkpe0sA7azcPOkjQe1E",
     "type":"MD",
     "hide_input_from_viewers":true,
     "hide_output_from_viewers":true
    }
   }
  },
  {
   "cell_type":"markdown",
   "source":[
    "## USA vs China"
   ],
   "attachments":{
    
   },
   "metadata":{
    "datalore":{
     "node_id":"jOvXqSUCfcX2VybMqcsg2G",
     "type":"MD",
     "hide_input_from_viewers":true,
     "hide_output_from_viewers":true
    }
   }
  },
  {
   "cell_type":"code",
   "source":[
    "country_totals = co2_df.groupby([\"country\", \"year\"]).aggregate({\"population\":\"sum\", \"co2\":\"sum\", \"gdp\":\"sum\"})\n",
    "usa_co2 = country_totals.loc[\"United States\"]\n",
    "china_co2 = country_totals.loc[\"China\"]\n",
    "\n",
    "\n",
    "# Plot Data\n",
    "fig, axs = plt.subplots(2, 2, figsize=(20, 10))\n",
    "fig.suptitle('United States vs China Emissions Timeline')\n",
    "\n",
    "# Population comparison\n",
    "axs[0,0].plot(usa_co2.index.to_list(), usa_co2[\"population\"], color=\"#3842f5\")\n",
    "axs[0,0].plot(china_co2.index.to_list(), china_co2[\"population\"], color=\"#f54242\")\n",
    "\n",
    "# Co2 comparison\n",
    "axs[0,1].plot(usa_co2.index.to_list(), usa_co2[\"co2\"], color=\"#3842f5\")\n",
    "axs[0,1].plot(china_co2.index.to_list(), china_co2[\"co2\"], color=\"#f54242\")\n",
    "\n",
    "# Set plot title\n",
    "axs[0,0].set_title('Population Growth',fontsize='medium')\n",
    "axs[0,1].set_title('CO2 Emissions',fontsize='medium')\n",
    "\n",
    "# Set legend\n",
    "axs[0,0].legend([\"USA\", \"China\"])\n",
    "axs[0,1].legend([\"USA\", \"China\"])\n",
    "\n",
    "# Set axis labels\n",
    "axs[0,0].set_ylabel('Population (in Billions)')\n",
    "axs[0,1].set_ylabel('CO2')\n",
    "axs[0,0].set_xlabel('Year')\n",
    "axs[0,1].set_xlabel('Year')\n",
    "\n",
    "plt.show()"
   ],
   "execution_count":56,
   "outputs":[
    {
     "data":{
      "image\/png":"[encoded data removed]"
     },
     "metadata":{
      "image\/png":{
       
      }
     },
     "output_type":"display_data"
    }
   ],
   "metadata":{
    "datalore":{
     "node_id":"SVGyw1bfiVWRNrAm9CTgWc",
     "type":"CODE",
     "hide_input_from_viewers":true,
     "hide_output_from_viewers":true
    }
   }
  }
 ],
 "metadata":{
  "kernelspec":{
   "display_name":"Python",
   "language":"python",
   "name":"python"
  },
  "datalore":{
   "computation_mode":"JUPYTER",
   "packages":[
    
   ],
   "report_row_ids":[
    
   ],
   "version":3
  }
 },
 "nbformat":4,
 "nbformat_minor":4
}